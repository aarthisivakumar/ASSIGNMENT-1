{
 "cells": [
  {
   "cell_type": "code",
   "execution_count": 1,
   "id": "b562690a-8c70-4f9a-ada0-30589fa5c0bb",
   "metadata": {},
   "outputs": [
    {
     "name": "stdout",
     "output_type": "stream",
     "text": [
      "Enter Marks obtained in 5 subjects:\n",
      "Your grade is B1\n"
     ]
    }
   ],
   "source": [
    "print(\"Enter Marks obtained in 5 subjects:\")\n",
    "total1=44\n",
    "total2=67\n",
    "total3=76\n",
    "total4=99\n",
    "total5=58\n",
    "tot=total1+total2+total3+total4+total4\n",
    "avg=tot/5\n",
    "if avg>=91 and avg <=100:\n",
    "    print(\"Your grade is A1\")\n",
    "elif avg>=81 and avg<91:\n",
    "    print(\"Your grade is A2\")\n",
    "elif avg>=71 and avg<81:\n",
    "    print(\"Your grade is B1\")\n",
    "elif avg>=61 and avg<71:\n",
    "    print(\"Your grade is B2\")\n",
    "elif avg>=51 and avg<61:\n",
    "    print(\"Your grade is C1\")\n",
    "elif avg>=41 and avg<51:\n",
    "    print(\"Your grade is C2\")\n",
    "elif avg>=33 and avg<41:\n",
    "    print(\"Your grade is D\")\n",
    "elif avg>=21 and avg<33:\n",
    "    print(\"Your grade is E1\")\n",
    "elif avg>=0 and avg<21:\n",
    "    print(\"Your grade is E2\")\n",
    "else:\n",
    "    print(\"Invalid input!\")"
   ]
  },
  {
   "cell_type": "code",
   "execution_count": null,
   "id": "54dbebe4-5e91-4aa8-8894-846eeac0441e",
   "metadata": {},
   "outputs": [],
   "source": []
  },
  {
   "cell_type": "code",
   "execution_count": null,
   "id": "0c42fd4f-6c48-4bb0-93ea-70c136a46465",
   "metadata": {},
   "outputs": [],
   "source": []
  },
  {
   "cell_type": "code",
   "execution_count": null,
   "id": "ae4a1cb7-8505-4afc-9588-66eea68d8dba",
   "metadata": {},
   "outputs": [],
   "source": []
  },
  {
   "cell_type": "code",
   "execution_count": null,
   "id": "a58227cc-30bd-4719-a70e-9d79629f9c5d",
   "metadata": {},
   "outputs": [],
   "source": []
  },
  {
   "cell_type": "code",
   "execution_count": null,
   "id": "fbced516-1beb-4529-8242-3297d147d618",
   "metadata": {},
   "outputs": [],
   "source": []
  },
  {
   "cell_type": "code",
   "execution_count": null,
   "id": "131617a5-c682-4ae1-82eb-3c0c3631a63a",
   "metadata": {},
   "outputs": [],
   "source": []
  },
  {
   "cell_type": "code",
   "execution_count": null,
   "id": "28a95f4e-444f-44b8-b737-98daa58099c7",
   "metadata": {},
   "outputs": [],
   "source": []
  },
  {
   "cell_type": "code",
   "execution_count": null,
   "id": "ab94be5b-41ea-4308-bc3a-598934fbc3cf",
   "metadata": {},
   "outputs": [],
   "source": []
  }
 ],
 "metadata": {
  "kernelspec": {
   "display_name": "Python 3 (ipykernel)",
   "language": "python",
   "name": "python3"
  },
  "language_info": {
   "codemirror_mode": {
    "name": "ipython",
    "version": 3
   },
   "file_extension": ".py",
   "mimetype": "text/x-python",
   "name": "python",
   "nbconvert_exporter": "python",
   "pygments_lexer": "ipython3",
   "version": "3.9.18"
  }
 },
 "nbformat": 4,
 "nbformat_minor": 5
}
